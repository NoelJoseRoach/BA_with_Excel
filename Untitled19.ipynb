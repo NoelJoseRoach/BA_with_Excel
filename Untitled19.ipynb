{
  "nbformat": 4,
  "nbformat_minor": 0,
  "metadata": {
    "colab": {
      "provenance": [],
      "authorship_tag": "ABX9TyMfR+Vg/YQ4vAtv4aVmeMNr",
      "include_colab_link": true
    },
    "kernelspec": {
      "name": "python3",
      "display_name": "Python 3"
    },
    "language_info": {
      "name": "python"
    }
  },
  "cells": [
    {
      "cell_type": "markdown",
      "metadata": {
        "id": "view-in-github",
        "colab_type": "text"
      },
      "source": [
        "<a href=\"https://colab.research.google.com/github/NoelJoseRoach/BA_with_Excel/blob/main/Untitled19.ipynb\" target=\"_parent\"><img src=\"https://colab.research.google.com/assets/colab-badge.svg\" alt=\"Open In Colab\"/></a>"
      ]
    },
    {
      "cell_type": "code",
      "execution_count": 1,
      "metadata": {
        "id": "98wW4iV6CoDk"
      },
      "outputs": [],
      "source": [
        "import pandas as pd\n",
        "import numpy as np\n",
        "import matplotlib.pyplot as plt\n"
      ]
    },
    {
      "cell_type": "code",
      "source": [
        "d=pd.read_csv('jio_sales.csv')"
      ],
      "metadata": {
        "id": "MheWeV6oC8VD"
      },
      "execution_count": 2,
      "outputs": []
    },
    {
      "cell_type": "code",
      "source": [
        "d"
      ],
      "metadata": {
        "colab": {
          "base_uri": "https://localhost:8080/",
          "height": 424
        },
        "id": "CvqrYjxkDHGY",
        "outputId": "897950fd-064c-4d49-f677-a4a34839217d"
      },
      "execution_count": 19,
      "outputs": [
        {
          "output_type": "execute_result",
          "data": {
            "text/plain": [
              "      Date       Open\n",
              "0      1.0  23.950001\n",
              "1      2.0  23.950001\n",
              "2      3.0  23.950001\n",
              "3      4.0  23.950001\n",
              "4      5.0  23.950001\n",
              "..     ...        ...\n",
              "239  240.0  17.400000\n",
              "240  241.0  17.400000\n",
              "241  242.0  16.799999\n",
              "242  243.0  17.400000\n",
              "243  244.0  17.500000\n",
              "\n",
              "[244 rows x 2 columns]"
            ],
            "text/html": [
              "\n",
              "  <div id=\"df-a5aab08b-c98b-4302-a873-3ce47abd4c90\">\n",
              "    <div class=\"colab-df-container\">\n",
              "      <div>\n",
              "<style scoped>\n",
              "    .dataframe tbody tr th:only-of-type {\n",
              "        vertical-align: middle;\n",
              "    }\n",
              "\n",
              "    .dataframe tbody tr th {\n",
              "        vertical-align: top;\n",
              "    }\n",
              "\n",
              "    .dataframe thead th {\n",
              "        text-align: right;\n",
              "    }\n",
              "</style>\n",
              "<table border=\"1\" class=\"dataframe\">\n",
              "  <thead>\n",
              "    <tr style=\"text-align: right;\">\n",
              "      <th></th>\n",
              "      <th>Date</th>\n",
              "      <th>Open</th>\n",
              "    </tr>\n",
              "  </thead>\n",
              "  <tbody>\n",
              "    <tr>\n",
              "      <th>0</th>\n",
              "      <td>1.0</td>\n",
              "      <td>23.950001</td>\n",
              "    </tr>\n",
              "    <tr>\n",
              "      <th>1</th>\n",
              "      <td>2.0</td>\n",
              "      <td>23.950001</td>\n",
              "    </tr>\n",
              "    <tr>\n",
              "      <th>2</th>\n",
              "      <td>3.0</td>\n",
              "      <td>23.950001</td>\n",
              "    </tr>\n",
              "    <tr>\n",
              "      <th>3</th>\n",
              "      <td>4.0</td>\n",
              "      <td>23.950001</td>\n",
              "    </tr>\n",
              "    <tr>\n",
              "      <th>4</th>\n",
              "      <td>5.0</td>\n",
              "      <td>23.950001</td>\n",
              "    </tr>\n",
              "    <tr>\n",
              "      <th>...</th>\n",
              "      <td>...</td>\n",
              "      <td>...</td>\n",
              "    </tr>\n",
              "    <tr>\n",
              "      <th>239</th>\n",
              "      <td>240.0</td>\n",
              "      <td>17.400000</td>\n",
              "    </tr>\n",
              "    <tr>\n",
              "      <th>240</th>\n",
              "      <td>241.0</td>\n",
              "      <td>17.400000</td>\n",
              "    </tr>\n",
              "    <tr>\n",
              "      <th>241</th>\n",
              "      <td>242.0</td>\n",
              "      <td>16.799999</td>\n",
              "    </tr>\n",
              "    <tr>\n",
              "      <th>242</th>\n",
              "      <td>243.0</td>\n",
              "      <td>17.400000</td>\n",
              "    </tr>\n",
              "    <tr>\n",
              "      <th>243</th>\n",
              "      <td>244.0</td>\n",
              "      <td>17.500000</td>\n",
              "    </tr>\n",
              "  </tbody>\n",
              "</table>\n",
              "<p>244 rows × 2 columns</p>\n",
              "</div>\n",
              "      <button class=\"colab-df-convert\" onclick=\"convertToInteractive('df-a5aab08b-c98b-4302-a873-3ce47abd4c90')\"\n",
              "              title=\"Convert this dataframe to an interactive table.\"\n",
              "              style=\"display:none;\">\n",
              "        \n",
              "  <svg xmlns=\"http://www.w3.org/2000/svg\" height=\"24px\"viewBox=\"0 0 24 24\"\n",
              "       width=\"24px\">\n",
              "    <path d=\"M0 0h24v24H0V0z\" fill=\"none\"/>\n",
              "    <path d=\"M18.56 5.44l.94 2.06.94-2.06 2.06-.94-2.06-.94-.94-2.06-.94 2.06-2.06.94zm-11 1L8.5 8.5l.94-2.06 2.06-.94-2.06-.94L8.5 2.5l-.94 2.06-2.06.94zm10 10l.94 2.06.94-2.06 2.06-.94-2.06-.94-.94-2.06-.94 2.06-2.06.94z\"/><path d=\"M17.41 7.96l-1.37-1.37c-.4-.4-.92-.59-1.43-.59-.52 0-1.04.2-1.43.59L10.3 9.45l-7.72 7.72c-.78.78-.78 2.05 0 2.83L4 21.41c.39.39.9.59 1.41.59.51 0 1.02-.2 1.41-.59l7.78-7.78 2.81-2.81c.8-.78.8-2.07 0-2.86zM5.41 20L4 18.59l7.72-7.72 1.47 1.35L5.41 20z\"/>\n",
              "  </svg>\n",
              "      </button>\n",
              "      \n",
              "  <style>\n",
              "    .colab-df-container {\n",
              "      display:flex;\n",
              "      flex-wrap:wrap;\n",
              "      gap: 12px;\n",
              "    }\n",
              "\n",
              "    .colab-df-convert {\n",
              "      background-color: #E8F0FE;\n",
              "      border: none;\n",
              "      border-radius: 50%;\n",
              "      cursor: pointer;\n",
              "      display: none;\n",
              "      fill: #1967D2;\n",
              "      height: 32px;\n",
              "      padding: 0 0 0 0;\n",
              "      width: 32px;\n",
              "    }\n",
              "\n",
              "    .colab-df-convert:hover {\n",
              "      background-color: #E2EBFA;\n",
              "      box-shadow: 0px 1px 2px rgba(60, 64, 67, 0.3), 0px 1px 3px 1px rgba(60, 64, 67, 0.15);\n",
              "      fill: #174EA6;\n",
              "    }\n",
              "\n",
              "    [theme=dark] .colab-df-convert {\n",
              "      background-color: #3B4455;\n",
              "      fill: #D2E3FC;\n",
              "    }\n",
              "\n",
              "    [theme=dark] .colab-df-convert:hover {\n",
              "      background-color: #434B5C;\n",
              "      box-shadow: 0px 1px 3px 1px rgba(0, 0, 0, 0.15);\n",
              "      filter: drop-shadow(0px 1px 2px rgba(0, 0, 0, 0.3));\n",
              "      fill: #FFFFFF;\n",
              "    }\n",
              "  </style>\n",
              "\n",
              "      <script>\n",
              "        const buttonEl =\n",
              "          document.querySelector('#df-a5aab08b-c98b-4302-a873-3ce47abd4c90 button.colab-df-convert');\n",
              "        buttonEl.style.display =\n",
              "          google.colab.kernel.accessAllowed ? 'block' : 'none';\n",
              "\n",
              "        async function convertToInteractive(key) {\n",
              "          const element = document.querySelector('#df-a5aab08b-c98b-4302-a873-3ce47abd4c90');\n",
              "          const dataTable =\n",
              "            await google.colab.kernel.invokeFunction('convertToInteractive',\n",
              "                                                     [key], {});\n",
              "          if (!dataTable) return;\n",
              "\n",
              "          const docLinkHtml = 'Like what you see? Visit the ' +\n",
              "            '<a target=\"_blank\" href=https://colab.research.google.com/notebooks/data_table.ipynb>data table notebook</a>'\n",
              "            + ' to learn more about interactive tables.';\n",
              "          element.innerHTML = '';\n",
              "          dataTable['output_type'] = 'display_data';\n",
              "          await google.colab.output.renderOutput(dataTable, element);\n",
              "          const docLink = document.createElement('div');\n",
              "          docLink.innerHTML = docLinkHtml;\n",
              "          element.appendChild(docLink);\n",
              "        }\n",
              "      </script>\n",
              "    </div>\n",
              "  </div>\n",
              "  "
            ]
          },
          "metadata": {},
          "execution_count": 19
        }
      ]
    },
    {
      "cell_type": "code",
      "source": [
        "x = d.iloc[:,0:1].values"
      ],
      "metadata": {
        "id": "rczXz8dhDHuB"
      },
      "execution_count": 24,
      "outputs": []
    },
    {
      "cell_type": "code",
      "source": [
        "x"
      ],
      "metadata": {
        "colab": {
          "base_uri": "https://localhost:8080/"
        },
        "id": "UB9AhI6eDMWJ",
        "outputId": "f7a62ca6-56a4-44cc-b310-bf1bd3c639e4"
      },
      "execution_count": 25,
      "outputs": [
        {
          "output_type": "execute_result",
          "data": {
            "text/plain": [
              "array([[  1.],\n",
              "       [  2.],\n",
              "       [  3.],\n",
              "       [  4.],\n",
              "       [  5.],\n",
              "       [  6.],\n",
              "       [  7.],\n",
              "       [  8.],\n",
              "       [  9.],\n",
              "       [ 10.],\n",
              "       [ 11.],\n",
              "       [ 12.],\n",
              "       [ 13.],\n",
              "       [ 14.],\n",
              "       [ 15.],\n",
              "       [ 16.],\n",
              "       [ 17.],\n",
              "       [ 18.],\n",
              "       [ 19.],\n",
              "       [ 20.],\n",
              "       [ 21.],\n",
              "       [ 22.],\n",
              "       [ 23.],\n",
              "       [ 24.],\n",
              "       [ 25.],\n",
              "       [ 26.],\n",
              "       [ 27.],\n",
              "       [ 28.],\n",
              "       [ 29.],\n",
              "       [ 30.],\n",
              "       [ 31.],\n",
              "       [ 32.],\n",
              "       [ 33.],\n",
              "       [ 34.],\n",
              "       [ 35.],\n",
              "       [ 36.],\n",
              "       [ 37.],\n",
              "       [ 38.],\n",
              "       [ 39.],\n",
              "       [ 40.],\n",
              "       [ 41.],\n",
              "       [ 42.],\n",
              "       [ 43.],\n",
              "       [ 44.],\n",
              "       [ 45.],\n",
              "       [ 46.],\n",
              "       [ 47.],\n",
              "       [ 48.],\n",
              "       [ 49.],\n",
              "       [ 50.],\n",
              "       [ 51.],\n",
              "       [ 52.],\n",
              "       [ 53.],\n",
              "       [ 54.],\n",
              "       [ 55.],\n",
              "       [ 56.],\n",
              "       [ 57.],\n",
              "       [ 58.],\n",
              "       [ 59.],\n",
              "       [ 60.],\n",
              "       [ 61.],\n",
              "       [ 62.],\n",
              "       [ 63.],\n",
              "       [ 64.],\n",
              "       [ 65.],\n",
              "       [ 66.],\n",
              "       [ 67.],\n",
              "       [ 68.],\n",
              "       [ 69.],\n",
              "       [ 70.],\n",
              "       [ 71.],\n",
              "       [ 72.],\n",
              "       [ 73.],\n",
              "       [ 74.],\n",
              "       [ 75.],\n",
              "       [ 76.],\n",
              "       [ 77.],\n",
              "       [ 78.],\n",
              "       [ 79.],\n",
              "       [ 80.],\n",
              "       [ 81.],\n",
              "       [ 82.],\n",
              "       [ 83.],\n",
              "       [ 84.],\n",
              "       [ 85.],\n",
              "       [ 86.],\n",
              "       [ 87.],\n",
              "       [ 88.],\n",
              "       [ 89.],\n",
              "       [ 90.],\n",
              "       [ 91.],\n",
              "       [ 92.],\n",
              "       [ 93.],\n",
              "       [ 94.],\n",
              "       [ 95.],\n",
              "       [ 96.],\n",
              "       [ 97.],\n",
              "       [ 98.],\n",
              "       [ 99.],\n",
              "       [100.],\n",
              "       [101.],\n",
              "       [102.],\n",
              "       [103.],\n",
              "       [104.],\n",
              "       [105.],\n",
              "       [106.],\n",
              "       [107.],\n",
              "       [108.],\n",
              "       [109.],\n",
              "       [110.],\n",
              "       [111.],\n",
              "       [112.],\n",
              "       [113.],\n",
              "       [114.],\n",
              "       [115.],\n",
              "       [116.],\n",
              "       [117.],\n",
              "       [118.],\n",
              "       [119.],\n",
              "       [120.],\n",
              "       [121.],\n",
              "       [122.],\n",
              "       [123.],\n",
              "       [124.],\n",
              "       [125.],\n",
              "       [126.],\n",
              "       [127.],\n",
              "       [128.],\n",
              "       [129.],\n",
              "       [130.],\n",
              "       [131.],\n",
              "       [132.],\n",
              "       [133.],\n",
              "       [134.],\n",
              "       [135.],\n",
              "       [136.],\n",
              "       [137.],\n",
              "       [138.],\n",
              "       [139.],\n",
              "       [140.],\n",
              "       [141.],\n",
              "       [142.],\n",
              "       [143.],\n",
              "       [144.],\n",
              "       [145.],\n",
              "       [146.],\n",
              "       [147.],\n",
              "       [148.],\n",
              "       [149.],\n",
              "       [150.],\n",
              "       [151.],\n",
              "       [152.],\n",
              "       [153.],\n",
              "       [154.],\n",
              "       [155.],\n",
              "       [156.],\n",
              "       [157.],\n",
              "       [158.],\n",
              "       [159.],\n",
              "       [160.],\n",
              "       [161.],\n",
              "       [162.],\n",
              "       [163.],\n",
              "       [164.],\n",
              "       [165.],\n",
              "       [166.],\n",
              "       [167.],\n",
              "       [168.],\n",
              "       [169.],\n",
              "       [170.],\n",
              "       [171.],\n",
              "       [172.],\n",
              "       [173.],\n",
              "       [174.],\n",
              "       [175.],\n",
              "       [176.],\n",
              "       [177.],\n",
              "       [178.],\n",
              "       [179.],\n",
              "       [180.],\n",
              "       [181.],\n",
              "       [182.],\n",
              "       [183.],\n",
              "       [184.],\n",
              "       [185.],\n",
              "       [186.],\n",
              "       [187.],\n",
              "       [188.],\n",
              "       [189.],\n",
              "       [190.],\n",
              "       [191.],\n",
              "       [192.],\n",
              "       [193.],\n",
              "       [194.],\n",
              "       [195.],\n",
              "       [196.],\n",
              "       [197.],\n",
              "       [198.],\n",
              "       [199.],\n",
              "       [200.],\n",
              "       [201.],\n",
              "       [202.],\n",
              "       [203.],\n",
              "       [204.],\n",
              "       [205.],\n",
              "       [206.],\n",
              "       [207.],\n",
              "       [208.],\n",
              "       [209.],\n",
              "       [210.],\n",
              "       [211.],\n",
              "       [212.],\n",
              "       [213.],\n",
              "       [214.],\n",
              "       [215.],\n",
              "       [216.],\n",
              "       [217.],\n",
              "       [218.],\n",
              "       [219.],\n",
              "       [220.],\n",
              "       [221.],\n",
              "       [222.],\n",
              "       [223.],\n",
              "       [224.],\n",
              "       [225.],\n",
              "       [226.],\n",
              "       [227.],\n",
              "       [228.],\n",
              "       [229.],\n",
              "       [230.],\n",
              "       [231.],\n",
              "       [232.],\n",
              "       [233.],\n",
              "       [234.],\n",
              "       [235.],\n",
              "       [236.],\n",
              "       [237.],\n",
              "       [238.],\n",
              "       [239.],\n",
              "       [240.],\n",
              "       [241.],\n",
              "       [242.],\n",
              "       [243.],\n",
              "       [244.]])"
            ]
          },
          "metadata": {},
          "execution_count": 25
        }
      ]
    },
    {
      "cell_type": "code",
      "source": [
        "y = d.iloc[:, -1].values"
      ],
      "metadata": {
        "id": "TbnDNgEJDQKA"
      },
      "execution_count": 26,
      "outputs": []
    },
    {
      "cell_type": "code",
      "source": [
        "y"
      ],
      "metadata": {
        "colab": {
          "base_uri": "https://localhost:8080/"
        },
        "id": "8thH8t_mDdhF",
        "outputId": "364e9f75-4357-4ced-fd48-540c12437a50"
      },
      "execution_count": 27,
      "outputs": [
        {
          "output_type": "execute_result",
          "data": {
            "text/plain": [
              "array([23.950001, 23.950001, 23.950001, 23.950001, 23.950001, 23.950001,\n",
              "       23.950001, 23.950001, 23.950001, 23.950001, 23.950001, 23.950001,\n",
              "       23.950001, 22.85    , 24.      , 24.      , 23.950001, 23.950001,\n",
              "       22.799999, 22.      , 22.4     , 21.549999, 21.549999, 21.549999,\n",
              "       21.5     , 21.5     , 21.5     , 21.5     , 21.5     , 21.450001,\n",
              "       21.450001, 21.4     , 21.      , 21.299999, 20.4     , 20.5     ,\n",
              "       20.549999, 20.799999, 21.1     , 21.      , 19.65    , 19.65    ,\n",
              "       19.6     , 19.549999, 20.      , 20.1     , 19.299999, 19.299999,\n",
              "       19.299999, 19.299999, 19.299999, 19.299999, 19.299999, 19.15    ,\n",
              "       19.5     , 19.5     , 19.15    , 19.15    , 19.15    , 19.15    ,\n",
              "       19.15    , 20.049999, 20.049999, 20.049999, 19.15    , 20.049999,\n",
              "       20.049999, 20.049999, 19.700001, 19.700001, 19.700001, 19.4     ,\n",
              "       20.      , 20.      , 20.      , 20.      , 19.049999, 19.049999,\n",
              "       19.049999, 19.049999, 19.049999, 19.049999, 19.049999, 19.      ,\n",
              "       19.049999, 19.049999, 19.049999, 19.049999, 19.049999, 19.049999,\n",
              "       19.049999, 19.049999, 19.950001, 19.950001, 19.950001, 19.1     ,\n",
              "       19.85    , 19.75    , 19.75    , 19.700001, 19.65    , 19.65    ,\n",
              "       19.65    , 19.65    , 20.549999, 20.549999, 20.549999, 20.549999,\n",
              "       20.549999, 20.549999, 20.549999, 20.549999, 20.6     , 20.700001,\n",
              "       20.1     , 20.1     , 20.1     , 20.1     , 20.299999, 20.700001,\n",
              "       20.200001, 20.200001, 20.200001, 20.25    , 20.25    , 20.65    ,\n",
              "       20.65    , 20.65    , 20.65    , 20.65    , 19.700001, 19.9     ,\n",
              "       20.65    , 20.65    , 20.65    , 20.65    , 20.65    , 20.65    ,\n",
              "       20.5     , 20.5     , 20.5     , 20.5     , 20.5     , 20.5     ,\n",
              "       20.299999, 20.299999, 19.9     , 19.85    , 19.85    , 19.280018,\n",
              "       19.280018, 19.765659, 19.765659, 19.717096, 19.862789, 19.9     ,\n",
              "       19.299999, 18.950001, 18.950001, 18.950001, 18.950001, 18.950001,\n",
              "       19.4     , 19.4     , 19.4     , 19.4     , 19.4     , 19.4     ,\n",
              "       19.4     , 19.200001, 18.799999, 18.15    , 17.85    , 17.85    ,\n",
              "       17.85    , 17.85    , 17.85    , 17.      , 17.85    , 17.85    ,\n",
              "       17.75    , 17.200001, 17.200001, 17.450001, 17.6     , 17.6     ,\n",
              "       17.6     , 17.549999, 17.549999, 17.549999, 17.549999, 17.549999,\n",
              "       17.549999, 17.549999, 17.799999, 17.799999, 17.75    , 17.75    ,\n",
              "       17.75    , 17.75    , 17.75    , 17.700001, 17.75    , 17.75    ,\n",
              "       17.799999, 17.799999, 17.799999, 17.799999, 17.799999, 17.799999,\n",
              "       17.799999, 17.799999, 17.799999, 17.799999, 17.799999, 17.799999,\n",
              "       17.799999, 17.799999, 17.      , 17.450001, 17.450001, 17.799999,\n",
              "       18.      , 18.049999, 17.950001, 17.950001, 17.950001, 17.9     ,\n",
              "       17.450001, 17.6     , 17.6     , 17.6     , 17.6     , 17.4     ,\n",
              "       17.5     , 17.5     , 17.5     , 17.5     , 17.4     , 17.4     ,\n",
              "       17.4     , 16.799999, 17.4     , 17.5     ])"
            ]
          },
          "metadata": {},
          "execution_count": 27
        }
      ]
    },
    {
      "cell_type": "code",
      "source": [
        "from sklearn.linear_model import LinearRegression\n",
        "regressor = LinearRegression()\n",
        "regressor.fit(x,y)"
      ],
      "metadata": {
        "colab": {
          "base_uri": "https://localhost:8080/"
        },
        "id": "lY2uaLxfDec9",
        "outputId": "fa7433e0-a0d3-4022-c5ae-4364332193d5"
      },
      "execution_count": 28,
      "outputs": [
        {
          "output_type": "execute_result",
          "data": {
            "text/plain": [
              "LinearRegression()"
            ]
          },
          "metadata": {},
          "execution_count": 28
        }
      ]
    },
    {
      "cell_type": "code",
      "source": [
        "\n",
        "y_pred = regressor.predict(x)\n",
        "\n",
        "\n",
        "\n"
      ],
      "metadata": {
        "id": "0Nu1dEExEQLz"
      },
      "execution_count": 29,
      "outputs": []
    },
    {
      "cell_type": "code",
      "source": [
        "plt.scatter(x, y, color = 'red')\n",
        "plt.plot(x, regressor.predict(x), color = 'blue')\n",
        "plt.xlabel('Package')\n",
        "plt.ylabel('Sales')\n",
        "plt.show()"
      ],
      "metadata": {
        "colab": {
          "base_uri": "https://localhost:8080/",
          "height": 279
        },
        "id": "zJ2KLkOyEqCa",
        "outputId": "07eb0045-dcc2-42fa-e8bd-26f99744f1c8"
      },
      "execution_count": 30,
      "outputs": [
        {
          "output_type": "display_data",
          "data": {
            "text/plain": [
              "<Figure size 432x288 with 1 Axes>"
            ],
            "image/png": "[encoded data removed]"
          },
          "metadata": {
            "needs_background": "light"
          }
        }
      ]
    },
    {
      "cell_type": "code",
      "source": [
        "from sklearn.model_selection import train_test_split\n",
        "x_train, x_test, y_train, y_test = train_test_split(x, y, test_size = 0.2, random_state = 0)"
      ],
      "metadata": {
        "id": "iVUvZLp0Nxs_"
      },
      "execution_count": 34,
      "outputs": []
    },
    {
      "cell_type": "code",
      "source": [
        "from sklearn.linear_model import LinearRegression\n",
        "regressor = LinearRegression()\n",
        "regressor.fit(x_train, y_train)"
      ],
      "metadata": {
        "colab": {
          "base_uri": "https://localhost:8080/"
        },
        "id": "6YNy3IWEN4s-",
        "outputId": "2ad285ce-6a2d-4c31-d993-122bf6aed1b5"
      },
      "execution_count": 35,
      "outputs": [
        {
          "output_type": "execute_result",
          "data": {
            "text/plain": [
              "LinearRegression()"
            ]
          },
          "metadata": {},
          "execution_count": 35
        }
      ]
    },
    {
      "cell_type": "code",
      "source": [
        "y_pred = regressor.predict(x_test)"
      ],
      "metadata": {
        "id": "LU0YndEPN7BX"
      },
      "execution_count": 36,
      "outputs": []
    },
    {
      "cell_type": "code",
      "source": [
        "plt.scatter(x_test, y_test, color = 'red')\n",
        "plt.scatter(x_train, y_train, color = 'green')\n",
        "plt.plot(x_test, y_pred, color = 'blue')\n",
        "plt.xlabel('Volume')\n",
        "plt.ylabel('Profit')\n",
        "plt.show()"
      ],
      "metadata": {
        "colab": {
          "base_uri": "https://localhost:8080/",
          "height": 279
        },
        "id": "r45kDoTtN9h9",
        "outputId": "cdd52177-4846-4502-a61d-26f254a1aa0e"
      },
      "execution_count": 37,
      "outputs": [
        {
          "output_type": "display_data",
          "data": {
            "text/plain": [
              "<Figure size 432x288 with 1 Axes>"
            ],
            "image/png": "[encoded data removed]"
          },
          "metadata": {
            "needs_background": "light"
          }
        }
      ]
    },
    {
      "cell_type": "code",
      "source": [
        "x_questionbank=d.iloc[0:200,0:1].values\n",
        "print(x_questionbank)"
      ],
      "metadata": {
        "colab": {
          "base_uri": "https://localhost:8080/"
        },
        "id": "j-AM2MwzN_zY",
        "outputId": "8129008e-5fa9-4b1a-981d-354e4f214886"
      },
      "execution_count": 43,
      "outputs": [
        {
          "output_type": "stream",
          "name": "stdout",
          "text": [
            "[[  1.]\n",
            " [  2.]\n",
            " [  3.]\n",
            " [  4.]\n",
            " [  5.]\n",
            " [  6.]\n",
            " [  7.]\n",
            " [  8.]\n",
            " [  9.]\n",
            " [ 10.]\n",
            " [ 11.]\n",
            " [ 12.]\n",
            " [ 13.]\n",
            " [ 14.]\n",
            " [ 15.]\n",
            " [ 16.]\n",
            " [ 17.]\n",
            " [ 18.]\n",
            " [ 19.]\n",
            " [ 20.]\n",
            " [ 21.]\n",
            " [ 22.]\n",
            " [ 23.]\n",
            " [ 24.]\n",
            " [ 25.]\n",
            " [ 26.]\n",
            " [ 27.]\n",
            " [ 28.]\n",
            " [ 29.]\n",
            " [ 30.]\n",
            " [ 31.]\n",
            " [ 32.]\n",
            " [ 33.]\n",
            " [ 34.]\n",
            " [ 35.]\n",
            " [ 36.]\n",
            " [ 37.]\n",
            " [ 38.]\n",
            " [ 39.]\n",
            " [ 40.]\n",
            " [ 41.]\n",
            " [ 42.]\n",
            " [ 43.]\n",
            " [ 44.]\n",
            " [ 45.]\n",
            " [ 46.]\n",
            " [ 47.]\n",
            " [ 48.]\n",
            " [ 49.]\n",
            " [ 50.]\n",
            " [ 51.]\n",
            " [ 52.]\n",
            " [ 53.]\n",
            " [ 54.]\n",
            " [ 55.]\n",
            " [ 56.]\n",
            " [ 57.]\n",
            " [ 58.]\n",
            " [ 59.]\n",
            " [ 60.]\n",
            " [ 61.]\n",
            " [ 62.]\n",
            " [ 63.]\n",
            " [ 64.]\n",
            " [ 65.]\n",
            " [ 66.]\n",
            " [ 67.]\n",
            " [ 68.]\n",
            " [ 69.]\n",
            " [ 70.]\n",
            " [ 71.]\n",
            " [ 72.]\n",
            " [ 73.]\n",
            " [ 74.]\n",
            " [ 75.]\n",
            " [ 76.]\n",
            " [ 77.]\n",
            " [ 78.]\n",
            " [ 79.]\n",
            " [ 80.]\n",
            " [ 81.]\n",
            " [ 82.]\n",
            " [ 83.]\n",
            " [ 84.]\n",
            " [ 85.]\n",
            " [ 86.]\n",
            " [ 87.]\n",
            " [ 88.]\n",
            " [ 89.]\n",
            " [ 90.]\n",
            " [ 91.]\n",
            " [ 92.]\n",
            " [ 93.]\n",
            " [ 94.]\n",
            " [ 95.]\n",
            " [ 96.]\n",
            " [ 97.]\n",
            " [ 98.]\n",
            " [ 99.]\n",
            " [100.]\n",
            " [101.]\n",
            " [102.]\n",
            " [103.]\n",
            " [104.]\n",
            " [105.]\n",
            " [106.]\n",
            " [107.]\n",
            " [108.]\n",
            " [109.]\n",
            " [110.]\n",
            " [111.]\n",
            " [112.]\n",
            " [113.]\n",
            " [114.]\n",
            " [115.]\n",
            " [116.]\n",
            " [117.]\n",
            " [118.]\n",
            " [119.]\n",
            " [120.]\n",
            " [121.]\n",
            " [122.]\n",
            " [123.]\n",
            " [124.]\n",
            " [125.]\n",
            " [126.]\n",
            " [127.]\n",
            " [128.]\n",
            " [129.]\n",
            " [130.]\n",
            " [131.]\n",
            " [132.]\n",
            " [133.]\n",
            " [134.]\n",
            " [135.]\n",
            " [136.]\n",
            " [137.]\n",
            " [138.]\n",
            " [139.]\n",
            " [140.]\n",
            " [141.]\n",
            " [142.]\n",
            " [143.]\n",
            " [144.]\n",
            " [145.]\n",
            " [146.]\n",
            " [147.]\n",
            " [148.]\n",
            " [149.]\n",
            " [150.]\n",
            " [151.]\n",
            " [152.]\n",
            " [153.]\n",
            " [154.]\n",
            " [155.]\n",
            " [156.]\n",
            " [157.]\n",
            " [158.]\n",
            " [159.]\n",
            " [160.]\n",
            " [161.]\n",
            " [162.]\n",
            " [163.]\n",
            " [164.]\n",
            " [165.]\n",
            " [166.]\n",
            " [167.]\n",
            " [168.]\n",
            " [169.]\n",
            " [170.]\n",
            " [171.]\n",
            " [172.]\n",
            " [173.]\n",
            " [174.]\n",
            " [175.]\n",
            " [176.]\n",
            " [177.]\n",
            " [178.]\n",
            " [179.]\n",
            " [180.]\n",
            " [181.]\n",
            " [182.]\n",
            " [183.]\n",
            " [184.]\n",
            " [185.]\n",
            " [186.]\n",
            " [187.]\n",
            " [188.]\n",
            " [189.]\n",
            " [190.]\n",
            " [191.]\n",
            " [192.]\n",
            " [193.]\n",
            " [194.]\n",
            " [195.]\n",
            " [196.]\n",
            " [197.]\n",
            " [198.]\n",
            " [199.]\n",
            " [200.]]\n"
          ]
        }
      ]
    },
    {
      "cell_type": "code",
      "source": [
        "x_test=d.iloc[200:249,0:1].values\n",
        "print(x_test)"
      ],
      "metadata": {
        "colab": {
          "base_uri": "https://localhost:8080/"
        },
        "id": "OzHFS6sPQin0",
        "outputId": "a3694875-bd61-48c3-b6cd-8728ba48aec5"
      },
      "execution_count": 40,
      "outputs": [
        {
          "output_type": "stream",
          "name": "stdout",
          "text": [
            "[[201.]\n",
            " [202.]\n",
            " [203.]\n",
            " [204.]\n",
            " [205.]\n",
            " [206.]\n",
            " [207.]\n",
            " [208.]\n",
            " [209.]\n",
            " [210.]\n",
            " [211.]\n",
            " [212.]\n",
            " [213.]\n",
            " [214.]\n",
            " [215.]\n",
            " [216.]\n",
            " [217.]\n",
            " [218.]\n",
            " [219.]\n",
            " [220.]\n",
            " [221.]\n",
            " [222.]\n",
            " [223.]\n",
            " [224.]\n",
            " [225.]\n",
            " [226.]\n",
            " [227.]\n",
            " [228.]\n",
            " [229.]\n",
            " [230.]\n",
            " [231.]\n",
            " [232.]\n",
            " [233.]\n",
            " [234.]\n",
            " [235.]\n",
            " [236.]\n",
            " [237.]\n",
            " [238.]\n",
            " [239.]\n",
            " [240.]\n",
            " [241.]\n",
            " [242.]\n",
            " [243.]\n",
            " [244.]]\n"
          ]
        }
      ]
    },
    {
      "cell_type": "code",
      "source": [
        "y_test=d.iloc[200:249,1].values\n",
        "print(y_test)"
      ],
      "metadata": {
        "colab": {
          "base_uri": "https://localhost:8080/"
        },
        "id": "GpHctIqpQq5j",
        "outputId": "ebbc7d64-8bed-406d-c6ab-7b83626ade87"
      },
      "execution_count": 41,
      "outputs": [
        {
          "output_type": "stream",
          "name": "stdout",
          "text": [
            "[17.75     17.700001 17.75     17.75     17.799999 17.799999 17.799999\n",
            " 17.799999 17.799999 17.799999 17.799999 17.799999 17.799999 17.799999\n",
            " 17.799999 17.799999 17.799999 17.799999 17.       17.450001 17.450001\n",
            " 17.799999 18.       18.049999 17.950001 17.950001 17.950001 17.9\n",
            " 17.450001 17.6      17.6      17.6      17.6      17.4      17.5\n",
            " 17.5      17.5      17.5      17.4      17.4      17.4      16.799999\n",
            " 17.4      17.5     ]\n"
          ]
        }
      ]
    },
    {
      "cell_type": "code",
      "source": [
        "y_questionbank=d.iloc[0:200,1].values\n",
        "print(y_questionbank)"
      ],
      "metadata": {
        "colab": {
          "base_uri": "https://localhost:8080/"
        },
        "id": "2hBro_6KQ_tq",
        "outputId": "e077fdae-696f-4fc2-95d6-83690a5de2df"
      },
      "execution_count": 42,
      "outputs": [
        {
          "output_type": "stream",
          "name": "stdout",
          "text": [
            "[23.950001 23.950001 23.950001 23.950001 23.950001 23.950001 23.950001\n",
            " 23.950001 23.950001 23.950001 23.950001 23.950001 23.950001 22.85\n",
            " 24.       24.       23.950001 23.950001 22.799999 22.       22.4\n",
            " 21.549999 21.549999 21.549999 21.5      21.5      21.5      21.5\n",
            " 21.5      21.450001 21.450001 21.4      21.       21.299999 20.4\n",
            " 20.5      20.549999 20.799999 21.1      21.       19.65     19.65\n",
            " 19.6      19.549999 20.       20.1      19.299999 19.299999 19.299999\n",
            " 19.299999 19.299999 19.299999 19.299999 19.15     19.5      19.5\n",
            " 19.15     19.15     19.15     19.15     19.15     20.049999 20.049999\n",
            " 20.049999 19.15     20.049999 20.049999 20.049999 19.700001 19.700001\n",
            " 19.700001 19.4      20.       20.       20.       20.       19.049999\n",
            " 19.049999 19.049999 19.049999 19.049999 19.049999 19.049999 19.\n",
            " 19.049999 19.049999 19.049999 19.049999 19.049999 19.049999 19.049999\n",
            " 19.049999 19.950001 19.950001 19.950001 19.1      19.85     19.75\n",
            " 19.75     19.700001 19.65     19.65     19.65     19.65     20.549999\n",
            " 20.549999 20.549999 20.549999 20.549999 20.549999 20.549999 20.549999\n",
            " 20.6      20.700001 20.1      20.1      20.1      20.1      20.299999\n",
            " 20.700001 20.200001 20.200001 20.200001 20.25     20.25     20.65\n",
            " 20.65     20.65     20.65     20.65     19.700001 19.9      20.65\n",
            " 20.65     20.65     20.65     20.65     20.65     20.5      20.5\n",
            " 20.5      20.5      20.5      20.5      20.299999 20.299999 19.9\n",
            " 19.85     19.85     19.280018 19.280018 19.765659 19.765659 19.717096\n",
            " 19.862789 19.9      19.299999 18.950001 18.950001 18.950001 18.950001\n",
            " 18.950001 19.4      19.4      19.4      19.4      19.4      19.4\n",
            " 19.4      19.200001 18.799999 18.15     17.85     17.85     17.85\n",
            " 17.85     17.85     17.       17.85     17.85     17.75     17.200001\n",
            " 17.200001 17.450001 17.6      17.6      17.6      17.549999 17.549999\n",
            " 17.549999 17.549999 17.549999 17.549999 17.549999 17.799999 17.799999\n",
            " 17.75     17.75     17.75     17.75    ]\n"
          ]
        }
      ]
    },
    {
      "cell_type": "code",
      "source": [
        "from sklearn.linear_model import LinearRegression\n",
        "regressor = LinearRegression()\n",
        "regressor.fit(x_questionbank,y_questionbank)"
      ],
      "metadata": {
        "colab": {
          "base_uri": "https://localhost:8080/"
        },
        "id": "fNmBJWYjRY2g",
        "outputId": "d484b5d9-d324-4f6c-dd0b-dfa506b4cc44"
      },
      "execution_count": 44,
      "outputs": [
        {
          "output_type": "execute_result",
          "data": {
            "text/plain": [
              "LinearRegression()"
            ]
          },
          "metadata": {},
          "execution_count": 44
        }
      ]
    },
    {
      "cell_type": "code",
      "source": [
        "regressor.predict(x_test)"
      ],
      "metadata": {
        "colab": {
          "base_uri": "https://localhost:8080/"
        },
        "id": "IItTUUd5RwQo",
        "outputId": "f2fb2056-0128-449c-dce4-9260fb3f6bbd"
      },
      "execution_count": 45,
      "outputs": [
        {
          "output_type": "execute_result",
          "data": {
            "text/plain": [
              "array([17.90847665, 17.8875276 , 17.86657855, 17.8456295 , 17.82468046,\n",
              "       17.80373141, 17.78278236, 17.76183331, 17.74088426, 17.71993521,\n",
              "       17.69898616, 17.67803711, 17.65708806, 17.63613901, 17.61518996,\n",
              "       17.59424091, 17.57329186, 17.55234281, 17.53139377, 17.51044472,\n",
              "       17.48949567, 17.46854662, 17.44759757, 17.42664852, 17.40569947,\n",
              "       17.38475042, 17.36380137, 17.34285232, 17.32190327, 17.30095422,\n",
              "       17.28000517, 17.25905613, 17.23810708, 17.21715803, 17.19620898,\n",
              "       17.17525993, 17.15431088, 17.13336183, 17.11241278, 17.09146373,\n",
              "       17.07051468, 17.04956563, 17.02861658, 17.00766753])"
            ]
          },
          "metadata": {},
          "execution_count": 45
        }
      ]
    },
    {
      "cell_type": "code",
      "source": [
        "plt.scatter(x_questionbank,y_questionbank,color = 'green')\n",
        "plt.scatter(x_test,y_test,color = 'blue')\n",
        "plt.plot(x_test,regressor.predict(x_test),color=\"red\")\n",
        "plt.xlabel('Package')\n",
        "plt.ylabel('Sales')"
      ],
      "metadata": {
        "colab": {
          "base_uri": "https://localhost:8080/",
          "height": 296
        },
        "id": "aKiunLxVRz3v",
        "outputId": "27ff0b8f-fc82-47f5-dba2-22062c1644e4"
      },
      "execution_count": 46,
      "outputs": [
        {
          "output_type": "execute_result",
          "data": {
            "text/plain": [
              "Text(0, 0.5, 'Sales')"
            ]
          },
          "metadata": {},
          "execution_count": 46
        },
        {
          "output_type": "display_data",
          "data": {
            "text/plain": [
              "<Figure size 432x288 with 1 Axes>"
            ],
            "image/png": "[encoded data removed]"
          },
          "metadata": {
            "needs_background": "light"
          }
        }
      ]
    },
    {
      "cell_type": "code",
      "source": [],
      "metadata": {
        "id": "yoSHper6So4Z"
      },
      "execution_count": null,
      "outputs": []
    }
  ]
}